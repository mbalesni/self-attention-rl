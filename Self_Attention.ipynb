{
  "nbformat": 4,
  "nbformat_minor": 0,
  "metadata": {
    "colab": {
      "name": "Self-Attention.ipynb",
      "provenance": [],
      "authorship_tag": "ABX9TyPbCEylqX1BTjZOUOqd6fgP",
      "include_colab_link": true
    },
    "kernelspec": {
      "name": "python3",
      "display_name": "Python 3"
    }
  },
  "cells": [
    {
      "cell_type": "markdown",
      "metadata": {
        "id": "view-in-github",
        "colab_type": "text"
      },
      "source": [
        "<a href=\"https://colab.research.google.com/github/nick-baliesnyi/self-attention-rl/blob/main/Self_Attention.ipynb\" target=\"_parent\"><img src=\"https://colab.research.google.com/assets/colab-badge.svg\" alt=\"Open In Colab\"/></a>"
      ]
    },
    {
      "cell_type": "markdown",
      "metadata": {
        "id": "KpRS3kIl3mUp"
      },
      "source": [
        "### This notebook implements and trains the Self-Attention model from https://arxiv.org/abs/1907.08027"
      ]
    },
    {
      "cell_type": "code",
      "metadata": {
        "id": "iQ28e3OM31uT"
      },
      "source": [
        ""
      ],
      "execution_count": null,
      "outputs": []
    }
  ]
}